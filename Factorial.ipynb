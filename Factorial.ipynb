{
  "nbformat": 4,
  "nbformat_minor": 0,
  "metadata": {
    "colab": {
      "name": "Factorial.ipynb",
      "provenance": [],
      "collapsed_sections": []
    },
    "kernelspec": {
      "name": "python3",
      "display_name": "Python 3"
    },
    "language_info": {
      "name": "python"
    }
  },
  "cells": [
    {
      "cell_type": "code",
      "metadata": {
        "colab": {
          "base_uri": "https://localhost:8080/"
        },
        "id": "L2D2zTf3UQxf",
        "outputId": "bb807a5e-35f1-47dc-db1c-365847314bf2"
      },
      "source": [
        "n = int(input(\"Enter a no.:\"))\n",
        "def factorial(n):\n",
        "  assert n >= 0 and int(n) ==n, \"The no. must be a +ve integer only\"\n",
        "  if n in [0,1]:\n",
        "    return 1\n",
        "  else:  \n",
        "    return n * factorial(n-1)\n",
        "print(factorial(n))"
      ],
      "execution_count": 8,
      "outputs": [
        {
          "output_type": "stream",
          "text": [
            "Enter a no.:3\n",
            "6\n"
          ],
          "name": "stdout"
        }
      ]
    },
    {
      "cell_type": "code",
      "metadata": {
        "id": "x0CICXWNVOVt"
      },
      "source": [
        ""
      ],
      "execution_count": null,
      "outputs": []
    }
  ]
}